{
 "cells": [
  {
   "cell_type": "code",
   "execution_count": 1,
   "metadata": {},
   "outputs": [],
   "source": [
    "import pandas as pd\n",
    "from load_graph import BioKnowledgeGraph"
   ]
  },
  {
   "cell_type": "code",
   "execution_count": 2,
   "metadata": {},
   "outputs": [
    {
     "name": "stdout",
     "output_type": "stream",
     "text": [
      "Loaded graph with 170009 nodes and 183760 edges\n"
     ]
    },
    {
     "data": {
      "text/plain": [
       "<load_graph.BioKnowledgeGraph at 0x1116644f0>"
      ]
     },
     "execution_count": 2,
     "metadata": {},
     "output_type": "execute_result"
    }
   ],
   "source": [
    "graph = BioKnowledgeGraph(\"everycure_data/Nodes.csv\", \"everycure_data/Edges.csv\")\n",
    "graph"
   ]
  },
  {
   "cell_type": "code",
   "execution_count": 3,
   "metadata": {},
   "outputs": [
    {
     "name": "stdout",
     "output_type": "stream",
     "text": [
      "NCBIGene:8483 --[biolink:related_to]--> FMA:70022\n"
     ]
    }
   ],
   "source": [
    "# Find all anatomical relationships for a gene\n",
    "gene_anatomy = graph.find_edges(\n",
    "    subject=\"NCBIGene:8483\", # https://www.ncbi.nlm.nih.gov/gene/8483 CILP cartilage intermediate layer protein\n",
    "    object_category=\"biolink:AnatomicalEntity\"\n",
    ")\n",
    "\n",
    "# Print the relationships\n",
    "for source, target, data in gene_anatomy:\n",
    "    print(f\"{source} --[{data['predicate']}]--> {target}\")\n",
    "\n",
    "# FMA:70022 = extracellular space: https://evsexplore.semantics.cancer.gov/evsexplore/concept/npo/NPO_1580 \n",
    "# That part of a multicellular organism outside the cells proper, \n",
    "# usually taken to be outside the plasma membranes, and occupied by fluid. "
   ]
  },
  {
   "cell_type": "code",
   "execution_count": 47,
   "metadata": {},
   "outputs": [
    {
     "name": "stdout",
     "output_type": "stream",
     "text": [
      "CHEMBL.COMPOUND:CHEMBL3137343 --[biolink:treats]--> MONDO:0021040\n"
     ]
    }
   ],
   "source": [
    "gene_anatomy = graph.find_edges(\n",
    "    subject=\"CHEMBL.COMPOUND:CHEMBL3137343\", # humanized antibody Keytruda\n",
    "    predicate=\"biolink:treats\"\n",
    ")\n",
    "\n",
    "# Print the relationships\n",
    "for source, target, data in gene_anatomy:\n",
    "    print(f\"{source} --[{data['predicate']}]--> {target}\")\n",
    "\n",
    "# MONDO:0021040 = pancreatic neoplasm: A benign or malignant neoplasm involving the pancreas."
   ]
  },
  {
   "cell_type": "code",
   "execution_count": 53,
   "metadata": {},
   "outputs": [
    {
     "name": "stdout",
     "output_type": "stream",
     "text": [
      "CHEMBL.COMPOUND:CHEMBL3137343 --[biolink:treats]--> MONDO:0021040 (pancreatic neoplasm)\n"
     ]
    }
   ],
   "source": [
    "treatments = graph.find_edges(\n",
    "    subject=\"CHEMBL.COMPOUND:CHEMBL3137343\",\n",
    "    predicate=\"biolink:treats\",\n",
    "    object_category=\"biolink:Disease\"\n",
    ")\n",
    "\n",
    "# Print the relationships with disease names\n",
    "for source, target, data in treatments:\n",
    "    target_info = graph.get_node_info(target)\n",
    "    print(f\"{source} --[{data['predicate']}]--> {target} ({target_info['name']})\")"
   ]
  },
  {
   "cell_type": "code",
   "execution_count": 54,
   "metadata": {},
   "outputs": [
    {
     "name": "stdout",
     "output_type": "stream",
     "text": [
      "CHEMBL.COMPOUND:CHEMBL3137343 -> MONDO:0021040\n"
     ]
    }
   ],
   "source": [
    "# Find paths between a drug and a disease\n",
    "paths = graph.find_paths(\n",
    "    start=\"CHEMBL.COMPOUND:CHEMBL3137343\",  # Example drug ID\n",
    "    end=\"MONDO:0021040\",       # Example disease ID\n",
    "    max_length=3\n",
    ")\n",
    "\n",
    "# Print the paths\n",
    "for path in paths:\n",
    "    print(\" -> \".join(path))"
   ]
  },
  {
   "cell_type": "code",
   "execution_count": 55,
   "metadata": {},
   "outputs": [
    {
     "name": "stdout",
     "output_type": "stream",
     "text": [
      "Name: Genetic locus associated with CILP\n",
      "Category: biolink:Gene\n",
      "Description: A protein coding gene CILP in human. // COMMENTS: Category=external.; UMLS Semantic Type: UMLSSC:T028\n"
     ]
    }
   ],
   "source": [
    "# Get detailed information about a node\n",
    "node_info = graph.get_node_info(\"NCBIGene:8483\")\n",
    "if node_info:\n",
    "    print(f\"Name: {node_info['name']}\")\n",
    "    print(f\"Category: {node_info['category']}\")\n",
    "    print(f\"Description: {node_info['description']}\")"
   ]
  },
  {
   "cell_type": "code",
   "execution_count": 56,
   "metadata": {},
   "outputs": [
    {
     "name": "stdout",
     "output_type": "stream",
     "text": [
      "Found 17338 proteins\n"
     ]
    }
   ],
   "source": [
    "# Find all proteins in the graph\n",
    "proteins = graph.find_nodes_by_category(\"biolink:Protein\")\n",
    "print(f\"Found {len(proteins)} proteins\")"
   ]
  },
  {
   "cell_type": "code",
   "execution_count": 5,
   "metadata": {},
   "outputs": [],
   "source": [
    "# Finding all genes expressed in cartilage that are related to arthritis\n",
    "def find_cartilage_genes_in_arthritis():\n",
    "    \"\"\"\n",
    "    Find all genes that are related to cartilage tissue and have a path to arthritis\n",
    "    \n",
    "    Returns:\n",
    "    --------\n",
    "    List[str]\n",
    "        List of gene IDs\n",
    "    \"\"\"\n",
    "    # Find all genes related to cartilage tissue\n",
    "    cartilage_edges = graph.find_edges(\n",
    "        object=\"FMA:70022\",  # Cartilage tissue\n",
    "        predicate=\"biolink:related_to\"\n",
    "    )\n",
    "    \n",
    "    # Extract the subject (gene) nodes from these edges\n",
    "    cartilage_genes = [source for source, _, _ in cartilage_edges]\n",
    "    \n",
    "    # Find which of these genes have a path to arthritis\n",
    "    arthritis_related = [\n",
    "        gene for gene in cartilage_genes\n",
    "        if graph.has_path(\n",
    "            start=gene,\n",
    "            end=\"MONDO:0005321\",  # Arthritis\n",
    "            max_length=2\n",
    "        )\n",
    "    ]\n",
    "    \n",
    "    # Get gene information for better output\n",
    "    result = []\n",
    "    for gene_id in arthritis_related:\n",
    "        gene_info = graph.get_node_info(gene_id)\n",
    "        result.append({\n",
    "            'id': gene_id,\n",
    "            'name': gene_info.get('name', 'Unknown'),\n",
    "            'category': gene_info.get('category', 'Unknown')\n",
    "        })\n",
    "    \n",
    "    return result\n",
    "\n",
    "# Usage:\n",
    "arthritis_genes = find_cartilage_genes_in_arthritis()\n",
    "for gene in arthritis_genes:\n",
    "    print(f\"Found gene: {gene['name']} ({gene['id']})\")"
   ]
  },
  {
   "cell_type": "code",
   "execution_count": 19,
   "metadata": {},
   "outputs": [
    {
     "name": "stdout",
     "output_type": "stream",
     "text": [
      "<class 'pandas.core.frame.DataFrame'>\n",
      "Index: 28368 entries, 0 to 28367\n",
      "Data columns (total 3 columns):\n",
      " #   Column  Non-Null Count  Dtype \n",
      "---  ------  --------------  ----- \n",
      " 0   source  28368 non-null  object\n",
      " 1   target  28368 non-null  object\n",
      " 2   y       28368 non-null  int64 \n",
      "dtypes: int64(1), object(2)\n",
      "memory usage: 886.5+ KB\n"
     ]
    }
   ],
   "source": [
    "nodes_df = pd.read_csv(\"/Users/guzal/dev/knowledgegraph/everycure_data/Nodes.csv\", index_col=\"Unnamed: 0\")\n",
    "edges_df = pd.read_csv(\"/Users/guzal/dev/knowledgegraph/everycure_data/Edges.csv\", index_col=\"Unnamed: 0\")\n",
    "gt_df = pd.read_csv(\"/Users/guzal/dev/knowledgegraph/everycure_data/Ground_Truth.csv\", index_col=\"Unnamed: 0\")\n",
    "gt_df.info()"
   ]
  },
  {
   "cell_type": "code",
   "execution_count": 21,
   "metadata": {},
   "outputs": [
    {
     "data": {
      "text/html": [
       "<div>\n",
       "<style scoped>\n",
       "    .dataframe tbody tr th:only-of-type {\n",
       "        vertical-align: middle;\n",
       "    }\n",
       "\n",
       "    .dataframe tbody tr th {\n",
       "        vertical-align: top;\n",
       "    }\n",
       "\n",
       "    .dataframe thead th {\n",
       "        text-align: right;\n",
       "    }\n",
       "</style>\n",
       "<table border=\"1\" class=\"dataframe\">\n",
       "  <thead>\n",
       "    <tr style=\"text-align: right;\">\n",
       "      <th></th>\n",
       "      <th>id</th>\n",
       "      <th>name</th>\n",
       "      <th>category</th>\n",
       "      <th>all_names</th>\n",
       "      <th>all_categories</th>\n",
       "      <th>iri</th>\n",
       "      <th>description</th>\n",
       "      <th>equivalent_curies</th>\n",
       "      <th>publications</th>\n",
       "      <th>label</th>\n",
       "    </tr>\n",
       "  </thead>\n",
       "  <tbody>\n",
       "    <tr>\n",
       "      <th>0</th>\n",
       "      <td>UniProtKB:P53805</td>\n",
       "      <td>RCAN1</td>\n",
       "      <td>biolink:Protein</td>\n",
       "      <td>RCAN1 GeneǂGenetic locus associated with RCAN1...</td>\n",
       "      <td>biolink:NucleicAcidEntityǂbiolink:Geneǂbiolink...</td>\n",
       "      <td>https://identifiers.org/uniprot:P53805</td>\n",
       "      <td>Calcipressin-1 (252 aa, ~28 kDa) is encoded by...</td>\n",
       "      <td>HGNC:3040ǂRGD:631338ǂNCIT:C82947ǂENSEMBL:ENSG0...</td>\n",
       "      <td>DOI:10.1042/bj20030267ǂPMID:12809556ǂDOI:10.10...</td>\n",
       "      <td>biolink:NucleicAcidEntityǂbiolink:MolecularEnt...</td>\n",
       "    </tr>\n",
       "    <tr>\n",
       "      <th>1</th>\n",
       "      <td>UniProtKB:Q4KWH8</td>\n",
       "      <td>PLCH1</td>\n",
       "      <td>biolink:Protein</td>\n",
       "      <td>1-phosphatidylinositol 4,5-bisphosphate phosph...</td>\n",
       "      <td>biolink:NucleicAcidEntityǂbiolink:Geneǂbiolink...</td>\n",
       "      <td>https://identifiers.org/uniprot:Q4KWH8</td>\n",
       "      <td>A protein that is a translation product of the...</td>\n",
       "      <td>NCBIGene:23007ǂMGI:2683547ǂPR:000012838ǂUMLS:C...</td>\n",
       "      <td>DOI:10.1042/bj20041677ǂDOI:10.1186/1471-2164-8...</td>\n",
       "      <td>biolink:NucleicAcidEntityǂbiolink:MolecularEnt...</td>\n",
       "    </tr>\n",
       "    <tr>\n",
       "      <th>2</th>\n",
       "      <td>UniProtKB:Q9UPU7</td>\n",
       "      <td>TBC1D2B</td>\n",
       "      <td>biolink:Protein</td>\n",
       "      <td>TBC1D2B (human)ǂGenetic locus associated with ...</td>\n",
       "      <td>biolink:NucleicAcidEntityǂbiolink:Geneǂbiolink...</td>\n",
       "      <td>https://identifiers.org/uniprot:Q9UPU7</td>\n",
       "      <td>A protein that is a translation product of the...</td>\n",
       "      <td>PR:Q9UPU7ǂENSEMBL:ENSG00000167202ǂMGI:1914266ǂ...</td>\n",
       "      <td>DOI:10.1126/scisignal.2000475ǂPMID:19690332ǂDO...</td>\n",
       "      <td>biolink:NucleicAcidEntityǂbiolink:MolecularEnt...</td>\n",
       "    </tr>\n",
       "    <tr>\n",
       "      <th>3</th>\n",
       "      <td>UniProtKB:P35462</td>\n",
       "      <td>DRD3</td>\n",
       "      <td>biolink:Protein</td>\n",
       "      <td>D(3) dopamine receptor (human)ǂDrd3 (rat)ǂD(3)...</td>\n",
       "      <td>biolink:NucleicAcidEntityǂbiolink:Geneǂbiolink...</td>\n",
       "      <td>https://identifiers.org/uniprot:P35462</td>\n",
       "      <td>A D(2)-like dopamine receptor that is a transl...</td>\n",
       "      <td>OMIM:126451ǂRGD:2521ǂMGI:94925ǂNCBIGene:1814ǂU...</td>\n",
       "      <td>PMID:16809426ǂPMID:16386234ǂPMID:7961889ǂ2-nǂ2...</td>\n",
       "      <td>biolink:NucleicAcidEntityǂbiolink:MolecularEnt...</td>\n",
       "    </tr>\n",
       "    <tr>\n",
       "      <th>4</th>\n",
       "      <td>UniProtKB:Q9UJY1</td>\n",
       "      <td>HSPB8</td>\n",
       "      <td>biolink:Protein</td>\n",
       "      <td>HSPB8ǂheat shock protein beta-8 (human)ǂHeat S...</td>\n",
       "      <td>biolink:NucleicAcidEntityǂbiolink:Geneǂbiolink...</td>\n",
       "      <td>https://identifiers.org/uniprot:Q9UJY1</td>\n",
       "      <td>Heat shock protein beta-8 (196 aa, ~22 kDa) is...</td>\n",
       "      <td>NCBIGene:26353ǂNCIT:C95433ǂUniProtKB:Q9UJY1ǂPR...</td>\n",
       "      <td>PMID:15122253ǂDOI:10.1016/j.bbamcr.2009.05.005...</td>\n",
       "      <td>biolink:NucleicAcidEntityǂbiolink:MolecularEnt...</td>\n",
       "    </tr>\n",
       "  </tbody>\n",
       "</table>\n",
       "</div>"
      ],
      "text/plain": [
       "                 id     name         category  \\\n",
       "0  UniProtKB:P53805    RCAN1  biolink:Protein   \n",
       "1  UniProtKB:Q4KWH8    PLCH1  biolink:Protein   \n",
       "2  UniProtKB:Q9UPU7  TBC1D2B  biolink:Protein   \n",
       "3  UniProtKB:P35462     DRD3  biolink:Protein   \n",
       "4  UniProtKB:Q9UJY1    HSPB8  biolink:Protein   \n",
       "\n",
       "                                           all_names  \\\n",
       "0  RCAN1 GeneǂGenetic locus associated with RCAN1...   \n",
       "1  1-phosphatidylinositol 4,5-bisphosphate phosph...   \n",
       "2  TBC1D2B (human)ǂGenetic locus associated with ...   \n",
       "3  D(3) dopamine receptor (human)ǂDrd3 (rat)ǂD(3)...   \n",
       "4  HSPB8ǂheat shock protein beta-8 (human)ǂHeat S...   \n",
       "\n",
       "                                      all_categories  \\\n",
       "0  biolink:NucleicAcidEntityǂbiolink:Geneǂbiolink...   \n",
       "1  biolink:NucleicAcidEntityǂbiolink:Geneǂbiolink...   \n",
       "2  biolink:NucleicAcidEntityǂbiolink:Geneǂbiolink...   \n",
       "3  biolink:NucleicAcidEntityǂbiolink:Geneǂbiolink...   \n",
       "4  biolink:NucleicAcidEntityǂbiolink:Geneǂbiolink...   \n",
       "\n",
       "                                      iri  \\\n",
       "0  https://identifiers.org/uniprot:P53805   \n",
       "1  https://identifiers.org/uniprot:Q4KWH8   \n",
       "2  https://identifiers.org/uniprot:Q9UPU7   \n",
       "3  https://identifiers.org/uniprot:P35462   \n",
       "4  https://identifiers.org/uniprot:Q9UJY1   \n",
       "\n",
       "                                         description  \\\n",
       "0  Calcipressin-1 (252 aa, ~28 kDa) is encoded by...   \n",
       "1  A protein that is a translation product of the...   \n",
       "2  A protein that is a translation product of the...   \n",
       "3  A D(2)-like dopamine receptor that is a transl...   \n",
       "4  Heat shock protein beta-8 (196 aa, ~22 kDa) is...   \n",
       "\n",
       "                                   equivalent_curies  \\\n",
       "0  HGNC:3040ǂRGD:631338ǂNCIT:C82947ǂENSEMBL:ENSG0...   \n",
       "1  NCBIGene:23007ǂMGI:2683547ǂPR:000012838ǂUMLS:C...   \n",
       "2  PR:Q9UPU7ǂENSEMBL:ENSG00000167202ǂMGI:1914266ǂ...   \n",
       "3  OMIM:126451ǂRGD:2521ǂMGI:94925ǂNCBIGene:1814ǂU...   \n",
       "4  NCBIGene:26353ǂNCIT:C95433ǂUniProtKB:Q9UJY1ǂPR...   \n",
       "\n",
       "                                        publications  \\\n",
       "0  DOI:10.1042/bj20030267ǂPMID:12809556ǂDOI:10.10...   \n",
       "1  DOI:10.1042/bj20041677ǂDOI:10.1186/1471-2164-8...   \n",
       "2  DOI:10.1126/scisignal.2000475ǂPMID:19690332ǂDO...   \n",
       "3  PMID:16809426ǂPMID:16386234ǂPMID:7961889ǂ2-nǂ2...   \n",
       "4  PMID:15122253ǂDOI:10.1016/j.bbamcr.2009.05.005...   \n",
       "\n",
       "                                               label  \n",
       "0  biolink:NucleicAcidEntityǂbiolink:MolecularEnt...  \n",
       "1  biolink:NucleicAcidEntityǂbiolink:MolecularEnt...  \n",
       "2  biolink:NucleicAcidEntityǂbiolink:MolecularEnt...  \n",
       "3  biolink:NucleicAcidEntityǂbiolink:MolecularEnt...  \n",
       "4  biolink:NucleicAcidEntityǂbiolink:MolecularEnt...  "
      ]
     },
     "execution_count": 21,
     "metadata": {},
     "output_type": "execute_result"
    }
   ],
   "source": [
    "nodes_df.head()"
   ]
  },
  {
   "cell_type": "code",
   "execution_count": 23,
   "metadata": {},
   "outputs": [
    {
     "data": {
      "text/plain": [
       "id                                                    UniProtKB:P53805\n",
       "name                                                             RCAN1\n",
       "category                                               biolink:Protein\n",
       "all_names            RCAN1 GeneǂGenetic locus associated with RCAN1...\n",
       "all_categories       biolink:NucleicAcidEntityǂbiolink:Geneǂbiolink...\n",
       "iri                             https://identifiers.org/uniprot:P53805\n",
       "description          Calcipressin-1 (252 aa, ~28 kDa) is encoded by...\n",
       "equivalent_curies    HGNC:3040ǂRGD:631338ǂNCIT:C82947ǂENSEMBL:ENSG0...\n",
       "publications         DOI:10.1042/bj20030267ǂPMID:12809556ǂDOI:10.10...\n",
       "label                biolink:NucleicAcidEntityǂbiolink:MolecularEnt...\n",
       "Name: 0, dtype: object"
      ]
     },
     "execution_count": 23,
     "metadata": {},
     "output_type": "execute_result"
    }
   ],
   "source": [
    "nodes_df.iloc[0,:]"
   ]
  },
  {
   "cell_type": "code",
   "execution_count": 20,
   "metadata": {},
   "outputs": [
    {
     "data": {
      "text/html": [
       "<div>\n",
       "<style scoped>\n",
       "    .dataframe tbody tr th:only-of-type {\n",
       "        vertical-align: middle;\n",
       "    }\n",
       "\n",
       "    .dataframe tbody tr th {\n",
       "        vertical-align: top;\n",
       "    }\n",
       "\n",
       "    .dataframe thead th {\n",
       "        text-align: right;\n",
       "    }\n",
       "</style>\n",
       "<table border=\"1\" class=\"dataframe\">\n",
       "  <thead>\n",
       "    <tr style=\"text-align: right;\">\n",
       "      <th></th>\n",
       "      <th>subject</th>\n",
       "      <th>object</th>\n",
       "      <th>predicate</th>\n",
       "      <th>knowledge_source</th>\n",
       "      <th>publications</th>\n",
       "      <th>publications_info</th>\n",
       "      <th>type</th>\n",
       "      <th>start_id</th>\n",
       "      <th>end_id</th>\n",
       "    </tr>\n",
       "  </thead>\n",
       "  <tbody>\n",
       "    <tr>\n",
       "      <th>0</th>\n",
       "      <td>NCBIGene:8483</td>\n",
       "      <td>FMA:70022</td>\n",
       "      <td>biolink:related_to</td>\n",
       "      <td>infores:ensembl-gene</td>\n",
       "      <td>NaN</td>\n",
       "      <td>{}</td>\n",
       "      <td>biolink:related_to</td>\n",
       "      <td>NCBIGene:8483</td>\n",
       "      <td>FMA:70022</td>\n",
       "    </tr>\n",
       "    <tr>\n",
       "      <th>1</th>\n",
       "      <td>NCBIGene:390650</td>\n",
       "      <td>CHEMBL.TARGET:CHEMBL372</td>\n",
       "      <td>biolink:in_taxon</td>\n",
       "      <td>infores:ncbi-geneǂinfores:ensembl-gene</td>\n",
       "      <td>NaN</td>\n",
       "      <td>{}</td>\n",
       "      <td>biolink:in_taxon</td>\n",
       "      <td>NCBIGene:390650</td>\n",
       "      <td>CHEMBL.TARGET:CHEMBL372</td>\n",
       "    </tr>\n",
       "    <tr>\n",
       "      <th>2</th>\n",
       "      <td>UMLS:C1158823</td>\n",
       "      <td>ENSEMBL:ENST00000485267</td>\n",
       "      <td>biolink:has_participant</td>\n",
       "      <td>infores:ensembl-gene</td>\n",
       "      <td>NaN</td>\n",
       "      <td>{}</td>\n",
       "      <td>biolink:has_participant</td>\n",
       "      <td>UMLS:C1158823</td>\n",
       "      <td>ENSEMBL:ENST00000485267</td>\n",
       "    </tr>\n",
       "    <tr>\n",
       "      <th>3</th>\n",
       "      <td>ENSEMBL:ENST00000464141</td>\n",
       "      <td>CHEMBL.TARGET:CHEMBL372</td>\n",
       "      <td>biolink:in_taxon</td>\n",
       "      <td>infores:ensembl-gene</td>\n",
       "      <td>NaN</td>\n",
       "      <td>{}</td>\n",
       "      <td>biolink:in_taxon</td>\n",
       "      <td>ENSEMBL:ENST00000464141</td>\n",
       "      <td>CHEMBL.TARGET:CHEMBL372</td>\n",
       "    </tr>\n",
       "    <tr>\n",
       "      <th>4</th>\n",
       "      <td>ENSEMBL:ENST00000556723</td>\n",
       "      <td>UniProtKB:Q9H0R1</td>\n",
       "      <td>biolink:transcribed_from</td>\n",
       "      <td>infores:ensembl-gene</td>\n",
       "      <td>NaN</td>\n",
       "      <td>{}</td>\n",
       "      <td>biolink:transcribed_from</td>\n",
       "      <td>ENSEMBL:ENST00000556723</td>\n",
       "      <td>UniProtKB:Q9H0R1</td>\n",
       "    </tr>\n",
       "  </tbody>\n",
       "</table>\n",
       "</div>"
      ],
      "text/plain": [
       "                   subject                   object                 predicate  \\\n",
       "0            NCBIGene:8483                FMA:70022        biolink:related_to   \n",
       "1          NCBIGene:390650  CHEMBL.TARGET:CHEMBL372          biolink:in_taxon   \n",
       "2            UMLS:C1158823  ENSEMBL:ENST00000485267   biolink:has_participant   \n",
       "3  ENSEMBL:ENST00000464141  CHEMBL.TARGET:CHEMBL372          biolink:in_taxon   \n",
       "4  ENSEMBL:ENST00000556723         UniProtKB:Q9H0R1  biolink:transcribed_from   \n",
       "\n",
       "                         knowledge_source publications publications_info  \\\n",
       "0                    infores:ensembl-gene          NaN                {}   \n",
       "1  infores:ncbi-geneǂinfores:ensembl-gene          NaN                {}   \n",
       "2                    infores:ensembl-gene          NaN                {}   \n",
       "3                    infores:ensembl-gene          NaN                {}   \n",
       "4                    infores:ensembl-gene          NaN                {}   \n",
       "\n",
       "                       type                 start_id                   end_id  \n",
       "0        biolink:related_to            NCBIGene:8483                FMA:70022  \n",
       "1          biolink:in_taxon          NCBIGene:390650  CHEMBL.TARGET:CHEMBL372  \n",
       "2   biolink:has_participant            UMLS:C1158823  ENSEMBL:ENST00000485267  \n",
       "3          biolink:in_taxon  ENSEMBL:ENST00000464141  CHEMBL.TARGET:CHEMBL372  \n",
       "4  biolink:transcribed_from  ENSEMBL:ENST00000556723         UniProtKB:Q9H0R1  "
      ]
     },
     "execution_count": 20,
     "metadata": {},
     "output_type": "execute_result"
    }
   ],
   "source": [
    "edges_df.head()"
   ]
  },
  {
   "cell_type": "code",
   "execution_count": 7,
   "metadata": {},
   "outputs": [
    {
     "data": {
      "text/html": [
       "<div>\n",
       "<style scoped>\n",
       "    .dataframe tbody tr th:only-of-type {\n",
       "        vertical-align: middle;\n",
       "    }\n",
       "\n",
       "    .dataframe tbody tr th {\n",
       "        vertical-align: top;\n",
       "    }\n",
       "\n",
       "    .dataframe thead th {\n",
       "        text-align: right;\n",
       "    }\n",
       "</style>\n",
       "<table border=\"1\" class=\"dataframe\">\n",
       "  <thead>\n",
       "    <tr style=\"text-align: right;\">\n",
       "      <th></th>\n",
       "      <th>source</th>\n",
       "      <th>target</th>\n",
       "      <th>y</th>\n",
       "    </tr>\n",
       "  </thead>\n",
       "  <tbody>\n",
       "    <tr>\n",
       "      <th>0</th>\n",
       "      <td>CHEMBL.COMPOUND:CHEMBL30</td>\n",
       "      <td>MONDO:0007186</td>\n",
       "      <td>1</td>\n",
       "    </tr>\n",
       "    <tr>\n",
       "      <th>1</th>\n",
       "      <td>CHEMBL.COMPOUND:CHEMBL3707202</td>\n",
       "      <td>MONDO:0007186</td>\n",
       "      <td>1</td>\n",
       "    </tr>\n",
       "    <tr>\n",
       "      <th>2</th>\n",
       "      <td>CHEMBL.COMPOUND:CHEMBL1502</td>\n",
       "      <td>MONDO:0007186</td>\n",
       "      <td>1</td>\n",
       "    </tr>\n",
       "    <tr>\n",
       "      <th>3</th>\n",
       "      <td>CHEMBL.COMPOUND:CHEMBL480</td>\n",
       "      <td>MONDO:0007186</td>\n",
       "      <td>1</td>\n",
       "    </tr>\n",
       "    <tr>\n",
       "      <th>4</th>\n",
       "      <td>CHEMBL.COMPOUND:CHEMBL3833310</td>\n",
       "      <td>MONDO:0007186</td>\n",
       "      <td>1</td>\n",
       "    </tr>\n",
       "  </tbody>\n",
       "</table>\n",
       "</div>"
      ],
      "text/plain": [
       "                          source         target  y\n",
       "0       CHEMBL.COMPOUND:CHEMBL30  MONDO:0007186  1\n",
       "1  CHEMBL.COMPOUND:CHEMBL3707202  MONDO:0007186  1\n",
       "2     CHEMBL.COMPOUND:CHEMBL1502  MONDO:0007186  1\n",
       "3      CHEMBL.COMPOUND:CHEMBL480  MONDO:0007186  1\n",
       "4  CHEMBL.COMPOUND:CHEMBL3833310  MONDO:0007186  1"
      ]
     },
     "execution_count": 7,
     "metadata": {},
     "output_type": "execute_result"
    }
   ],
   "source": [
    "gt_df.head()"
   ]
  },
  {
   "cell_type": "code",
   "execution_count": 8,
   "metadata": {},
   "outputs": [
    {
     "data": {
      "text/html": [
       "<div>\n",
       "<style scoped>\n",
       "    .dataframe tbody tr th:only-of-type {\n",
       "        vertical-align: middle;\n",
       "    }\n",
       "\n",
       "    .dataframe tbody tr th {\n",
       "        vertical-align: top;\n",
       "    }\n",
       "\n",
       "    .dataframe thead th {\n",
       "        text-align: right;\n",
       "    }\n",
       "</style>\n",
       "<table border=\"1\" class=\"dataframe\">\n",
       "  <thead>\n",
       "    <tr style=\"text-align: right;\">\n",
       "      <th></th>\n",
       "      <th>y</th>\n",
       "    </tr>\n",
       "  </thead>\n",
       "  <tbody>\n",
       "    <tr>\n",
       "      <th>count</th>\n",
       "      <td>28368.000000</td>\n",
       "    </tr>\n",
       "    <tr>\n",
       "      <th>mean</th>\n",
       "      <td>0.407396</td>\n",
       "    </tr>\n",
       "    <tr>\n",
       "      <th>std</th>\n",
       "      <td>0.491358</td>\n",
       "    </tr>\n",
       "    <tr>\n",
       "      <th>min</th>\n",
       "      <td>0.000000</td>\n",
       "    </tr>\n",
       "    <tr>\n",
       "      <th>25%</th>\n",
       "      <td>0.000000</td>\n",
       "    </tr>\n",
       "    <tr>\n",
       "      <th>50%</th>\n",
       "      <td>0.000000</td>\n",
       "    </tr>\n",
       "    <tr>\n",
       "      <th>75%</th>\n",
       "      <td>1.000000</td>\n",
       "    </tr>\n",
       "    <tr>\n",
       "      <th>max</th>\n",
       "      <td>1.000000</td>\n",
       "    </tr>\n",
       "  </tbody>\n",
       "</table>\n",
       "</div>"
      ],
      "text/plain": [
       "                  y\n",
       "count  28368.000000\n",
       "mean       0.407396\n",
       "std        0.491358\n",
       "min        0.000000\n",
       "25%        0.000000\n",
       "50%        0.000000\n",
       "75%        1.000000\n",
       "max        1.000000"
      ]
     },
     "execution_count": 8,
     "metadata": {},
     "output_type": "execute_result"
    }
   ],
   "source": [
    "gt_df.describe()"
   ]
  },
  {
   "cell_type": "code",
   "execution_count": 13,
   "metadata": {},
   "outputs": [
    {
     "data": {
      "text/plain": [
       "0        MONDO:0007186\n",
       "1        MONDO:0007186\n",
       "2        MONDO:0007186\n",
       "3        MONDO:0007186\n",
       "4        MONDO:0007186\n",
       "             ...      \n",
       "28363    MONDO:0004981\n",
       "28364    MONDO:0004981\n",
       "28365    MONDO:0004981\n",
       "28366    MONDO:0004981\n",
       "28367    MONDO:0004981\n",
       "Name: target, Length: 28368, dtype: object"
      ]
     },
     "execution_count": 13,
     "metadata": {},
     "output_type": "execute_result"
    }
   ],
   "source": [
    "gt_df['target']"
   ]
  },
  {
   "cell_type": "code",
   "execution_count": 16,
   "metadata": {},
   "outputs": [
    {
     "name": "stdout",
     "output_type": "stream",
     "text": [
      "<class 'pandas.core.frame.DataFrame'>\n",
      "Index: 28368 entries, 0 to 28367\n",
      "Data columns (total 7 columns):\n",
      " #   Column                  Non-Null Count  Dtype  \n",
      "---  ------                  --------------  -----  \n",
      " 0   target                  28368 non-null  object \n",
      " 1   target_embedding        28368 non-null  object \n",
      " 2   source                  28368 non-null  object \n",
      " 3   source_embedding        28368 non-null  object \n",
      " 4   y                       28368 non-null  int64  \n",
      " 5   degree                  28368 non-null  int64  \n",
      " 6   clustering_coefficient  28368 non-null  float64\n",
      "dtypes: float64(1), int64(2), object(4)\n",
      "memory usage: 1.7+ MB\n"
     ]
    }
   ],
   "source": [
    "sampled_df = pd.read_csv(\"/Users/guzal/dev/knowledgegraph/everycure_data/sampled_kg_gt_dataset.csv\",index_col='Unnamed: 0')\n",
    "sampled_df.info()"
   ]
  },
  {
   "cell_type": "code",
   "execution_count": 17,
   "metadata": {},
   "outputs": [
    {
     "data": {
      "text/html": [
       "<div>\n",
       "<style scoped>\n",
       "    .dataframe tbody tr th:only-of-type {\n",
       "        vertical-align: middle;\n",
       "    }\n",
       "\n",
       "    .dataframe tbody tr th {\n",
       "        vertical-align: top;\n",
       "    }\n",
       "\n",
       "    .dataframe thead th {\n",
       "        text-align: right;\n",
       "    }\n",
       "</style>\n",
       "<table border=\"1\" class=\"dataframe\">\n",
       "  <thead>\n",
       "    <tr style=\"text-align: right;\">\n",
       "      <th></th>\n",
       "      <th>target</th>\n",
       "      <th>target_embedding</th>\n",
       "      <th>source</th>\n",
       "      <th>source_embedding</th>\n",
       "      <th>y</th>\n",
       "      <th>degree</th>\n",
       "      <th>clustering_coefficient</th>\n",
       "    </tr>\n",
       "  </thead>\n",
       "  <tbody>\n",
       "    <tr>\n",
       "      <th>0</th>\n",
       "      <td>MONDO:0001830</td>\n",
       "      <td>[-1.51357800e-01  6.52519986e-02 -1.80281922e-...</td>\n",
       "      <td>MESH:D018712</td>\n",
       "      <td>[-0.29937154  0.10315063 -0.19614923 -0.075108...</td>\n",
       "      <td>1</td>\n",
       "      <td>1</td>\n",
       "      <td>0.000000e+00</td>\n",
       "    </tr>\n",
       "    <tr>\n",
       "      <th>1</th>\n",
       "      <td>MONDO:0001830</td>\n",
       "      <td>[-1.51357800e-01  6.52519986e-02 -1.80281922e-...</td>\n",
       "      <td>MESH:D004338</td>\n",
       "      <td>[-3.15890819e-01  1.15171695e+00 -4.02470157e-...</td>\n",
       "      <td>1</td>\n",
       "      <td>665</td>\n",
       "      <td>0.000000e+00</td>\n",
       "    </tr>\n",
       "    <tr>\n",
       "      <th>2</th>\n",
       "      <td>MONDO:0001830</td>\n",
       "      <td>[-1.51357800e-01  6.52519986e-02 -1.80281922e-...</td>\n",
       "      <td>CHEMBL.COMPOUND:CHEMBL2106755</td>\n",
       "      <td>[-0.21377265  0.21636915  0.17833856  0.152273...</td>\n",
       "      <td>1</td>\n",
       "      <td>1</td>\n",
       "      <td>0.000000e+00</td>\n",
       "    </tr>\n",
       "    <tr>\n",
       "      <th>3</th>\n",
       "      <td>MONDO:0001830</td>\n",
       "      <td>[-1.51357800e-01  6.52519986e-02 -1.80281922e-...</td>\n",
       "      <td>MESH:Q000819</td>\n",
       "      <td>[-0.27162647  0.14502069  0.05017115 -0.106104...</td>\n",
       "      <td>1</td>\n",
       "      <td>4958</td>\n",
       "      <td>8.137754e-08</td>\n",
       "    </tr>\n",
       "    <tr>\n",
       "      <th>4</th>\n",
       "      <td>MONDO:0001830</td>\n",
       "      <td>[-1.51357800e-01  6.52519986e-02 -1.80281922e-...</td>\n",
       "      <td>CHEMBL.COMPOUND:CHEMBL2146126</td>\n",
       "      <td>[-0.33723655  0.26299965  0.05125289  0.025367...</td>\n",
       "      <td>1</td>\n",
       "      <td>28</td>\n",
       "      <td>0.000000e+00</td>\n",
       "    </tr>\n",
       "  </tbody>\n",
       "</table>\n",
       "</div>"
      ],
      "text/plain": [
       "          target                                   target_embedding  \\\n",
       "0  MONDO:0001830  [-1.51357800e-01  6.52519986e-02 -1.80281922e-...   \n",
       "1  MONDO:0001830  [-1.51357800e-01  6.52519986e-02 -1.80281922e-...   \n",
       "2  MONDO:0001830  [-1.51357800e-01  6.52519986e-02 -1.80281922e-...   \n",
       "3  MONDO:0001830  [-1.51357800e-01  6.52519986e-02 -1.80281922e-...   \n",
       "4  MONDO:0001830  [-1.51357800e-01  6.52519986e-02 -1.80281922e-...   \n",
       "\n",
       "                          source  \\\n",
       "0                   MESH:D018712   \n",
       "1                   MESH:D004338   \n",
       "2  CHEMBL.COMPOUND:CHEMBL2106755   \n",
       "3                   MESH:Q000819   \n",
       "4  CHEMBL.COMPOUND:CHEMBL2146126   \n",
       "\n",
       "                                    source_embedding  y  degree  \\\n",
       "0  [-0.29937154  0.10315063 -0.19614923 -0.075108...  1       1   \n",
       "1  [-3.15890819e-01  1.15171695e+00 -4.02470157e-...  1     665   \n",
       "2  [-0.21377265  0.21636915  0.17833856  0.152273...  1       1   \n",
       "3  [-0.27162647  0.14502069  0.05017115 -0.106104...  1    4958   \n",
       "4  [-0.33723655  0.26299965  0.05125289  0.025367...  1      28   \n",
       "\n",
       "   clustering_coefficient  \n",
       "0            0.000000e+00  \n",
       "1            0.000000e+00  \n",
       "2            0.000000e+00  \n",
       "3            8.137754e-08  \n",
       "4            0.000000e+00  "
      ]
     },
     "execution_count": 17,
     "metadata": {},
     "output_type": "execute_result"
    }
   ],
   "source": [
    "sampled_df.head()"
   ]
  },
  {
   "cell_type": "code",
   "execution_count": null,
   "metadata": {},
   "outputs": [],
   "source": []
  }
 ],
 "metadata": {
  "kernelspec": {
   "display_name": "ec_intro",
   "language": "python",
   "name": "python3"
  },
  "language_info": {
   "codemirror_mode": {
    "name": "ipython",
    "version": 3
   },
   "file_extension": ".py",
   "mimetype": "text/x-python",
   "name": "python",
   "nbconvert_exporter": "python",
   "pygments_lexer": "ipython3",
   "version": "3.10.15"
  }
 },
 "nbformat": 4,
 "nbformat_minor": 2
}
